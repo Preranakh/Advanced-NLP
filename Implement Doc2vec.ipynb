{
  "cells": [
    {
      "cell_type": "markdown",
      "metadata": {
        "id": "view-in-github",
        "colab_type": "text"
      },
      "source": [
        "<a href=\"https://colab.research.google.com/github/Preranakh/Advanced-NLP/blob/main/Implement%20Doc2vec.ipynb\" target=\"_parent\"><img src=\"https://colab.research.google.com/assets/colab-badge.svg\" alt=\"Open In Colab\"/></a>"
      ]
    },
    {
      "cell_type": "markdown",
      "metadata": {
        "id": "IS4fx5YowLn0"
      },
      "source": [
        "# doc2vec: How To Implement doc2vec"
      ]
    },
    {
      "cell_type": "markdown",
      "metadata": {
        "id": "xsJuiDK7wLn2"
      },
      "source": [
        "### Train Our Own Model"
      ]
    },
    {
      "cell_type": "code",
      "execution_count": null,
      "metadata": {
        "id": "489VEkQjwLn2"
      },
      "outputs": [],
      "source": [
        "# Read in data, clean it, and then split into train and test sets\n",
        "# While implementing the doc to vec we have the same options as we have in the word to vec i.e use the pre trained vectors or the vectors directly trained on our data\n",
        "import gensim\n",
        "import pandas as pd\n",
        "from sklearn.model_selection import train_test_split\n",
        "pd.set_option('display.max_colwidth', 100)\n",
        "\n",
        "messages = pd.read_csv('spam.csv', encoding='latin-1')\n",
        "messages = messages.drop(labels = [\"Unnamed: 2\", \"Unnamed: 3\", \"Unnamed: 4\"], axis = 1)\n",
        "messages.columns = [\"label\", \"text\"]\n",
        "messages['text_clean'] = messages['text'].apply(lambda x: gensim.utils.simple_preprocess(x))\n",
        "\n",
        "X_train, X_test, y_train, y_test = train_test_split(messages['text_clean'],\n",
        "                                                    messages['label'], test_size=0.2)"
      ]
    },
    {
      "cell_type": "code",
      "execution_count": null,
      "metadata": {
        "id": "xIPuspviwLn3"
      },
      "outputs": [],
      "source": [
        "# Create tagged document objects to prepare to train the model\n",
        "# One difference between doc to vec and word to vec is that doc to vec requires us to create a tagged documents\n",
        "tagged_docs = [gensim.models.doc2vec.TaggedDocument(v, [i]) for i, v in enumerate(X_train)]"
      ]
    },
    {
      "cell_type": "code",
      "execution_count": null,
      "metadata": {
        "colab": {
          "base_uri": "https://localhost:8080/"
        },
        "id": "mAWKxRXEwLn3",
        "outputId": "6e75c306-3d36-4b60-c2bc-72b11c9161f8"
      },
      "outputs": [
        {
          "output_type": "execute_result",
          "data": {
            "text/plain": [
              "TaggedDocument(words=['how', 'it', 'feel', 'mr', 'your', 'not', 'my', 'real', 'valentine', 'just', 'my', 'yo', 'valentine', 'even', 'tho', 'hardly', 'play'], tags=[0])"
            ]
          },
          "metadata": {},
          "execution_count": 17
        }
      ],
      "source": [
        "# Look at what a tagged document looks like\n",
        "tagged_docs[0]"
      ]
    },
    {
      "cell_type": "code",
      "execution_count": null,
      "metadata": {
        "id": "KinEBGpzwLn4"
      },
      "outputs": [],
      "source": [
        "# Train a basic doc2vec model\n",
        "d2v_model = gensim.models.Doc2Vec(tagged_docs,\n",
        "                                  vector_size=100,\n",
        "                                  window=5,\n",
        "                                  min_count=2)"
      ]
    },
    {
      "cell_type": "code",
      "execution_count": null,
      "metadata": {
        "colab": {
          "base_uri": "https://localhost:8080/"
        },
        "id": "FCIJPhDewLn4",
        "outputId": "3ac861dd-f55b-4561-864a-aa299f7b085f"
      },
      "outputs": [
        {
          "output_type": "execute_result",
          "data": {
            "text/plain": [
              "array([-2.2326701e-03, -3.5634146e-03, -1.7704996e-03, -4.0488616e-03,\n",
              "        7.2301237e-04,  3.0870789e-03, -4.7173253e-03, -1.2697446e-03,\n",
              "        2.3805794e-04,  2.9918496e-03, -4.1260035e-03, -1.2737868e-03,\n",
              "        1.9132482e-03, -1.8230529e-03, -4.5664571e-03,  4.2173150e-03,\n",
              "       -4.3275948e-03, -1.4867083e-03, -3.6390380e-03, -4.6032988e-03,\n",
              "       -4.0002489e-03,  4.0340470e-03, -4.8187000e-04, -2.1900644e-03,\n",
              "       -6.3356146e-04, -3.9652879e-03,  3.4744418e-03, -3.6678663e-03,\n",
              "       -3.5300381e-03, -1.6069327e-03,  2.5174061e-03, -3.4876138e-03,\n",
              "       -2.7389801e-03,  2.9286032e-03, -1.7116150e-03, -4.4756155e-03,\n",
              "       -4.7625755e-03,  3.1161190e-03, -2.5071442e-04,  2.6763375e-05,\n",
              "        2.0529262e-03,  2.3196908e-03, -3.6168660e-03,  3.4722791e-03,\n",
              "        3.3206067e-03, -8.8848046e-04, -5.1860715e-04,  3.5495819e-03,\n",
              "       -5.1671127e-04, -3.4644147e-03, -1.7398024e-03,  2.7742311e-03,\n",
              "        1.4327039e-03,  1.3514541e-03, -1.5428691e-04,  3.9644032e-03,\n",
              "        3.0277262e-04, -4.2005111e-03,  2.0953065e-03, -1.2505776e-03,\n",
              "       -4.4433917e-03,  4.7070449e-03, -1.6255495e-03, -4.7691832e-03,\n",
              "       -6.8231521e-04, -4.1997246e-03, -2.1253219e-03,  5.8687059e-04,\n",
              "        3.6636498e-04,  4.4539794e-03, -1.1335877e-03, -2.9644191e-03,\n",
              "       -1.5449562e-03, -2.4193437e-03,  1.7249854e-03, -2.0326530e-03,\n",
              "       -1.4802336e-03, -2.4829118e-03, -7.0159021e-04,  5.0957233e-04,\n",
              "       -3.3969856e-03, -1.5542955e-03,  3.4522912e-03, -4.8598773e-03,\n",
              "        3.2883454e-03, -7.8961806e-04,  2.7672222e-03,  4.8412718e-03,\n",
              "       -2.3493492e-03, -4.3414077e-03, -6.5050466e-04, -4.8549194e-03,\n",
              "        3.0811888e-03, -2.3202772e-05,  1.1484110e-03, -3.7363037e-03,\n",
              "       -2.6710068e-03,  2.1134329e-03,  1.2807420e-03, -4.7641532e-03],\n",
              "      dtype=float32)"
            ]
          },
          "metadata": {},
          "execution_count": 25
        }
      ],
      "source": [
        "# What happens if we pass in a single word like we did for word2vec?\n",
        "d2v_model.infer_vector('text')"
      ]
    },
    {
      "cell_type": "code",
      "source": [
        "d2v_model.infer_vector(\"I am happy\")"
      ],
      "metadata": {
        "colab": {
          "base_uri": "https://localhost:8080/"
        },
        "id": "ZqsbNTPOymsP",
        "outputId": "f3fb19d1-e5c9-4b38-b959-611dcd2edff1"
      },
      "execution_count": null,
      "outputs": [
        {
          "output_type": "execute_result",
          "data": {
            "text/plain": [
              "array([ 0.00476229, -0.00410813, -0.00432742,  0.00221697,  0.00258297,\n",
              "       -0.00457672,  0.0028555 , -0.00043436, -0.0046322 ,  0.00405697,\n",
              "        0.00408254, -0.0043    , -0.0026018 , -0.00051803,  0.00014161,\n",
              "        0.00069059,  0.00447023, -0.00123623, -0.00263513,  0.00359927,\n",
              "       -0.00078081,  0.0044362 ,  0.00176397,  0.00227264, -0.00032037,\n",
              "       -0.00063183, -0.0047198 , -0.00299461, -0.00269   ,  0.00279792,\n",
              "       -0.00275908, -0.00499277,  0.00331413, -0.00038839,  0.00189426,\n",
              "        0.0008245 , -0.00250563, -0.00328209,  0.00243776, -0.0041229 ,\n",
              "       -0.00481323,  0.00219378, -0.00455507, -0.00220185, -0.00343017,\n",
              "        0.00138382,  0.00288867, -0.00469271,  0.00369675,  0.00301789,\n",
              "       -0.00311218, -0.0007797 ,  0.00303383, -0.00247174,  0.00053889,\n",
              "       -0.00013933,  0.00112811,  0.00414079,  0.00088544, -0.00302888,\n",
              "        0.00253753,  0.00177831, -0.00036581, -0.00287338, -0.0022585 ,\n",
              "       -0.00230084, -0.00144759,  0.00497996,  0.00185216,  0.00039234,\n",
              "       -0.00177758, -0.00266134, -0.0047738 ,  0.00146192,  0.00461267,\n",
              "       -0.00481257,  0.00069513,  0.00279741, -0.00441894, -0.00137099,\n",
              "       -0.00483192,  0.00465368, -0.00318983, -0.0035964 , -0.00133306,\n",
              "       -0.00434417, -0.00286558, -0.00394583, -0.00188234,  0.00126896,\n",
              "        0.00165467, -0.00244377,  0.00442041, -0.00351535, -0.00343018,\n",
              "       -0.00222822, -0.00275344,  0.00082599,  0.00039677,  0.00260525],\n",
              "      dtype=float32)"
            ]
          },
          "metadata": {},
          "execution_count": 21
        }
      ]
    },
    {
      "cell_type": "code",
      "source": [
        "d2v_model.infer_vector(['I','am', 'happy'])\n",
        "# it resturned a vector of length 100.\n",
        "# Though there are not any messages like I am happy in our training set, but yet this is able to return a vector based on what it learnt from the traning set\n",
        "#even though it did not see this explicit set of words together"
      ],
      "metadata": {
        "colab": {
          "base_uri": "https://localhost:8080/"
        },
        "id": "k6LXxyP4yxOP",
        "outputId": "dbe55828-0428-414b-aa76-6554b4bf21d3"
      },
      "execution_count": null,
      "outputs": [
        {
          "output_type": "execute_result",
          "data": {
            "text/plain": [
              "array([ 1.38239644e-03, -7.50522176e-03, -6.64790813e-03, -2.71562494e-05,\n",
              "       -8.55291635e-03, -7.30679277e-03, -8.24065227e-03, -7.74651719e-03,\n",
              "       -2.01971410e-03, -2.83822231e-03,  7.45578017e-03,  3.87547282e-03,\n",
              "        2.46211793e-03,  1.19846119e-02, -1.35928765e-02, -2.12312210e-03,\n",
              "       -1.81488227e-02, -6.16508815e-03, -2.31090205e-04,  1.26408590e-02,\n",
              "        7.64404889e-04,  5.19988127e-03, -4.09272645e-04,  7.50457449e-03,\n",
              "        5.10838069e-03, -1.02284066e-02,  4.98170790e-04,  1.04547217e-02,\n",
              "        1.21220527e-02,  1.22777363e-02,  9.82968230e-03,  3.42295435e-03,\n",
              "       -3.97764938e-03,  1.14126466e-02, -3.91635066e-03,  1.03745488e-02,\n",
              "        2.84817535e-03,  1.13663878e-02,  1.88347779e-03,  1.40928961e-02,\n",
              "       -1.23195406e-02, -5.46222320e-03,  1.78946613e-03,  8.81224219e-03,\n",
              "       -6.39777025e-03,  4.18703072e-03, -3.81324673e-03,  3.30180349e-03,\n",
              "        1.22977244e-02, -2.65206414e-04, -7.02176988e-03,  8.85208417e-03,\n",
              "        1.98847242e-03,  4.13692463e-03, -4.84426133e-03,  1.21400598e-02,\n",
              "        8.61790217e-03,  8.15496081e-04,  1.74471978e-02, -9.16866213e-03,\n",
              "       -5.92305930e-03, -7.26517406e-04, -1.31996442e-03,  7.01474911e-03,\n",
              "        1.30088972e-02,  4.93098516e-04, -1.00519145e-02,  7.00796582e-03,\n",
              "        8.93261656e-03,  1.22100068e-02, -1.59925479e-03, -4.29236796e-03,\n",
              "       -9.84300114e-03, -6.07504416e-03, -1.22582307e-02,  8.74774705e-04,\n",
              "       -6.05599163e-03,  5.00593660e-03, -5.36243943e-03,  1.36604125e-03,\n",
              "       -7.07094849e-04,  9.15267225e-03, -2.90193059e-03,  4.03420720e-03,\n",
              "       -1.18513955e-02, -3.28183244e-03,  9.17311385e-03, -2.53959559e-03,\n",
              "       -5.83891105e-03, -1.53766908e-02,  1.64114160e-03, -4.44172462e-03,\n",
              "        5.47470013e-03, -1.06121292e-02,  1.06428815e-02,  9.24797729e-03,\n",
              "       -1.84485316e-02, -1.10817906e-02,  7.19258701e-03, -1.21317357e-02],\n",
              "      dtype=float32)"
            ]
          },
          "metadata": {},
          "execution_count": 26
        }
      ]
    },
    {
      "cell_type": "code",
      "execution_count": null,
      "metadata": {
        "id": "QVxI69YTwLn4"
      },
      "outputs": [],
      "source": [
        "# What happens if we pass in a list of words?"
      ]
    },
    {
      "cell_type": "markdown",
      "metadata": {
        "id": "0oEWUmbywLn4"
      },
      "source": [
        "### What About Pre-trained Document Vectors?\n",
        "\n",
        "There are not as many options as there are for word vectors. There also is not an easy API to read these in like there is for `word2vec` so it is more time consuming.\n",
        "\n",
        "Pre-trained vectors from training on Wikipedia and Associated Press News can be found [here](https://github.com/jhlau/doc2vec). Feel free to explore on your own!"
      ]
    }
  ],
  "metadata": {
    "kernelspec": {
      "display_name": "Python 3",
      "language": "python",
      "name": "python3"
    },
    "language_info": {
      "codemirror_mode": {
        "name": "ipython",
        "version": 3
      },
      "file_extension": ".py",
      "mimetype": "text/x-python",
      "name": "python",
      "nbconvert_exporter": "python",
      "pygments_lexer": "ipython3",
      "version": "3.6.2"
    },
    "colab": {
      "provenance": [],
      "include_colab_link": true
    }
  },
  "nbformat": 4,
  "nbformat_minor": 0
}